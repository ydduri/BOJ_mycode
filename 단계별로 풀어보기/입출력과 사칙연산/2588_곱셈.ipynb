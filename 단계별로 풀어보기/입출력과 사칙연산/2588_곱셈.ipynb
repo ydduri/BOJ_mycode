{
 "cells": [
  {
   "attachments": {},
   "cell_type": "markdown",
   "metadata": {},
   "source": [
    "## 10430. 나머지\n",
    "\n",
    "* **input() 함수**를 이용하여 입력을 받을 수 있다!  \n",
    "\n",
    "* input() 함수는 입력 내용을 '문자열'로 취급한다는 특징이 있는데,  \n",
    "우리는 숫자 연산을 수행하고 싶으므로 입력받은 a, b 각각을 **int() 함수**를 이용해 정수형으로 바꿔준다!\n",
    "\n",
    "* int() 함수를 이용해 바꿔주기 전 input() 입력은 '문자열'이므로 인덱싱을 사용할 수 있다는 점을 이용해서 해결했다.\n",
    "  * (3) 위치: (1) 위치 숫자 * (2) 위치 숫자의 일의자리수\n",
    "  * (4) 위치: (1) 위치 숫자 * (2) 위치 숫자의 십의자리수\n",
    "  * (5) 위치: (1) 위치 숫자 * (2) 위치 숫자의 백의자리수"
   ]
  },
  {
   "cell_type": "code",
   "execution_count": 2,
   "metadata": {},
   "outputs": [
    {
     "name": "stdout",
     "output_type": "stream",
     "text": [
      "2360\n",
      "3776\n",
      "1416\n",
      "181720\n"
     ]
    }
   ],
   "source": [
    "x = input()\n",
    "y = input()\n",
    "\n",
    "x = int(x)\n",
    "origin_y = int(y)\n",
    "y3 = int(y[2])\n",
    "y2 = int(y[1])\n",
    "y1 = int(y[0])\n",
    "\n",
    "print(x*y3)\n",
    "print(x*y2)\n",
    "print(x*y1)\n",
    "print(x*origin_y)\n",
    "\n",
    "# 출력 결과 예시는 x = 472, y = 385를 입력했을 때"
   ]
  }
 ],
 "metadata": {
  "kernelspec": {
   "display_name": "Python 3",
   "language": "python",
   "name": "python3"
  },
  "language_info": {
   "codemirror_mode": {
    "name": "ipython",
    "version": 3
   },
   "file_extension": ".py",
   "mimetype": "text/x-python",
   "name": "python",
   "nbconvert_exporter": "python",
   "pygments_lexer": "ipython3",
   "version": "3.8.10"
  },
  "orig_nbformat": 4,
  "vscode": {
   "interpreter": {
    "hash": "916dbcbb3f70747c44a77c7bcd40155683ae19c65e1c03b4aa3499c5328201f1"
   }
  }
 },
 "nbformat": 4,
 "nbformat_minor": 2
}
