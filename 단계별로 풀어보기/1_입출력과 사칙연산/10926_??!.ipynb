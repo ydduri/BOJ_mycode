{
 "cells": [
  {
   "attachments": {},
   "cell_type": "markdown",
   "metadata": {},
   "source": [
    "## 10926. ??!\n",
    "\n",
    "* **input() 함수**를 이용하여 입력을 받을 수 있다!  \n",
    "\n",
    "* 이번에는 input() 함수가 입력 내용을 '문자열'로 취급한다는 특징 자체를 활용하면 된다!  \n",
    "아래와 같이 코드를 짜면 문자열 덧셈이 수행되므로 id 뒤에 ??!를 곧바로 붙일 수 있다."
   ]
  },
  {
   "cell_type": "code",
   "execution_count": 1,
   "metadata": {},
   "outputs": [
    {
     "name": "stdout",
     "output_type": "stream",
     "text": [
      "ydduri??!\n"
     ]
    }
   ],
   "source": [
    "id = input()\n",
    "\n",
    "print(id+'??!')\n",
    "\n",
    "# 출력 결과 예시는 id = ydduri 를 입력했을 때"
   ]
  }
 ],
 "metadata": {
  "kernelspec": {
   "display_name": "Python 3",
   "language": "python",
   "name": "python3"
  },
  "language_info": {
   "codemirror_mode": {
    "name": "ipython",
    "version": 3
   },
   "file_extension": ".py",
   "mimetype": "text/x-python",
   "name": "python",
   "nbconvert_exporter": "python",
   "pygments_lexer": "ipython3",
   "version": "3.8.10"
  },
  "orig_nbformat": 4,
  "vscode": {
   "interpreter": {
    "hash": "916dbcbb3f70747c44a77c7bcd40155683ae19c65e1c03b4aa3499c5328201f1"
   }
  }
 },
 "nbformat": 4,
 "nbformat_minor": 2
}
