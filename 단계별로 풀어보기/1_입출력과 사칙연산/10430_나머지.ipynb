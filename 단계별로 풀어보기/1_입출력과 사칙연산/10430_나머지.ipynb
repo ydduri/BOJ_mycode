{
 "cells": [
  {
   "attachments": {},
   "cell_type": "markdown",
   "metadata": {},
   "source": [
    "## 10430. 나머지\n",
    "\n",
    "* **input() 함수**를 이용하여 입력을 받을 수 있다!  \n",
    "\n",
    "* **split() 함수**를 이용하면 '여러 개의 입력'을 받을 수 있다. 여러 개 입력은 띄어쓰기로 구분된다!\n",
    "* input() 함수는 입력 내용을 '문자열'로 취급한다는 특징이 있는데,  \n",
    "우리는 숫자 연산을 수행하고 싶으므로 입력받은 a, b, c 각각을 **int() 함수**를 이용해 정수형으로 바꿔준다!"
   ]
  },
  {
   "cell_type": "code",
   "execution_count": 1,
   "metadata": {},
   "outputs": [
    {
     "name": "stdout",
     "output_type": "stream",
     "text": [
      "1\n",
      "1\n",
      "0\n",
      "0\n"
     ]
    }
   ],
   "source": [
    "a, b, c = input().split()\n",
    "\n",
    "a = int(a)\n",
    "b = int(b)\n",
    "c = int(c)\n",
    "\n",
    "print((a+b)%c)              # a+b를 c로 나눴을 때의 나머지 출력\n",
    "print(((a%c)+(b%c))%c)      # a/c의 나머지, b/c의 나머지를 더한 뒤 그 값을 다시 c로 나눴을 때의 나머지 출력\n",
    "print((a*b)%c)              # a*b를 c로 나눴을 때의 나머지 출력\n",
    "print(((a%c)*(b%c))%c)      # a/c의 나머지, b/c의 나머지를 곱한 뒤 그 값을 다시 c로 나눴을 때의 나머지 출력\n",
    "\n",
    "# 출력 결과 예시는 a = 5, b = 8, c = 4를 입력했을 때"
   ]
  }
 ],
 "metadata": {
  "kernelspec": {
   "display_name": "Python 3",
   "language": "python",
   "name": "python3"
  },
  "language_info": {
   "codemirror_mode": {
    "name": "ipython",
    "version": 3
   },
   "file_extension": ".py",
   "mimetype": "text/x-python",
   "name": "python",
   "nbconvert_exporter": "python",
   "pygments_lexer": "ipython3",
   "version": "3.8.10"
  },
  "orig_nbformat": 4,
  "vscode": {
   "interpreter": {
    "hash": "916dbcbb3f70747c44a77c7bcd40155683ae19c65e1c03b4aa3499c5328201f1"
   }
  }
 },
 "nbformat": 4,
 "nbformat_minor": 2
}
