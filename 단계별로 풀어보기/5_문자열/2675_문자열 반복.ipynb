{
 "cells": [
  {
   "attachments": {},
   "cell_type": "markdown",
   "metadata": {},
   "source": [
    "## 2675. 문자열 반복\n",
    "\n",
    "* **input() 함수**를 이용하여 입력을 받을 수 있다!  \n",
    "\n",
    "* Python에서 **문자열 간 덧셈은 '이어붙이기'**, **문자열×상수는 해당 상수만큼 '반복하기'** 라는 점을 이용했다.\n",
    "\n",
    "* temp의 초깃값을 ''의 빈 문자열로 설정하여 입력된 단어 길이만큼 반복문을 수행하면서  \n",
    "  문자열의 각 원소를 원하는 횟수만큼 반복한 뒤 이를 이어붙인 결과를 최종 출력할 수 있도록 만들었다."
   ]
  },
  {
   "cell_type": "code",
   "execution_count": 3,
   "metadata": {},
   "outputs": [
    {
     "name": "stdout",
     "output_type": "stream",
     "text": [
      "AAABBBCCC\n",
      "/////HHHHHTTTTTPPPPP\n"
     ]
    }
   ],
   "source": [
    "t = int(input())\n",
    "\n",
    "for _ in range(t):\n",
    "    r, s = input().split()\n",
    "    r = int(r)\n",
    "\n",
    "    temp = ''\n",
    "\n",
    "    for i in range(len(s)):\n",
    "        temp = temp + s[i]*r\n",
    "        i = i+1\n",
    "    \n",
    "    print(temp)"
   ]
  }
 ],
 "metadata": {
  "kernelspec": {
   "display_name": "base",
   "language": "python",
   "name": "python3"
  },
  "language_info": {
   "codemirror_mode": {
    "name": "ipython",
    "version": 3
   },
   "file_extension": ".py",
   "mimetype": "text/x-python",
   "name": "python",
   "nbconvert_exporter": "python",
   "pygments_lexer": "ipython3",
   "version": "3.9.12"
  },
  "orig_nbformat": 4
 },
 "nbformat": 4,
 "nbformat_minor": 2
}
