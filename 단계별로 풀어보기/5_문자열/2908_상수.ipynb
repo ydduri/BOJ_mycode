{
 "cells": [
  {
   "attachments": {},
   "cell_type": "markdown",
   "metadata": {},
   "source": [
    "## 2908. 상수\n",
    "\n",
    "* **input() 함수**를 이용하여 입력을 받을 수 있다!  \n",
    "\n",
    "* input() 함수는 입력 내용을 '문자열'로 취급하므로 그대로 사용하면 된다!\n",
    "* **split() 함수**를 이용하면 '여러 개의 입력'을 받을 수 있다. 여러 개 입력은 띄어쓰기로 구분된다!"
   ]
  },
  {
   "cell_type": "code",
   "execution_count": 8,
   "metadata": {},
   "outputs": [
    {
     "name": "stdout",
     "output_type": "stream",
     "text": [
      "938\n"
     ]
    }
   ],
   "source": [
    "# 첫 번째로 생각한 아이디어...라고 말하기도 뭐한 단순한 방법\n",
    "\n",
    "A, B = input().split()\n",
    "\n",
    "if (int(A[2]) > int(B[2])) or (int(A[2]) == int(B[2]) and int(A[1]) > int(B[1])) or \\\n",
    "    (int(A[1]) == int(B[1]) and int(A[0]) > int(B[0])):\n",
    "    print(A[2]+A[1]+A[0])\n",
    "\n",
    "else:\n",
    "    print(B[2]+B[1]+B[0])\n",
    "\n",
    "# 출력 결과 예시는 A = 839, B = 237을 입력했을 때"
   ]
  },
  {
   "cell_type": "code",
   "execution_count": 10,
   "metadata": {},
   "outputs": [
    {
     "name": "stdout",
     "output_type": "stream",
     "text": [
      "437\n"
     ]
    }
   ],
   "source": [
    "# 두 번째 방법. 아예 처음부터 숫자를 역순으로 바꿔서 비교하는 게 깔끔하다.\n",
    "\n",
    "A, B = input().split()\n",
    "\n",
    "A = int(A[::-1]) # 역순으로 만든 뒤 int형으로 변환\n",
    "B = int(B[::-1])\n",
    "\n",
    "if A > B:\n",
    "    print(A)\n",
    "\n",
    "else:\n",
    "    print(B)\n",
    "\n",
    "# 출력 결과 예시는 A = 734, B = 893을 입력했을 때"
   ]
  }
 ],
 "metadata": {
  "kernelspec": {
   "display_name": "base",
   "language": "python",
   "name": "python3"
  },
  "language_info": {
   "codemirror_mode": {
    "name": "ipython",
    "version": 3
   },
   "file_extension": ".py",
   "mimetype": "text/x-python",
   "name": "python",
   "nbconvert_exporter": "python",
   "pygments_lexer": "ipython3",
   "version": "3.9.12"
  },
  "orig_nbformat": 4
 },
 "nbformat": 4,
 "nbformat_minor": 2
}
