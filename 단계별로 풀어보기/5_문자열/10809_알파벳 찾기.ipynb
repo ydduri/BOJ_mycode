{
 "cells": [
  {
   "attachments": {},
   "cell_type": "markdown",
   "metadata": {},
   "source": [
    "## 10809. 알파벳 찾기\n",
    "\n",
    "* **input() 함수**를 이용하여 입력을 받을 수 있다!  \n",
    "\n",
    "* s는 '입력'되는 단어를 받기 위한 변수이고, arr은 각각의 알파벳의 등장 위치를 '출력'하기 위한 것이다.  \n",
    "  어떤 알파벳이 단어에 포함되어 있지 않다면 -1을 디폴트로 출력해야 하므로, arr의 초기 원소는 모두 -1로 초기화한다.\n",
    "* **chr(숫자) 함수**는 아스키 코드 값(숫자)을 문자로 변환해주는 함수로,  \n",
    "  이것을 이용해서 숫자를 문자처럼 취급할 수 있도록 한다.\n",
    "* 앞서 arr는 a부터 z까지 각 알파벳의 등장 위치를 출력하기 위한 것이었으므로,  \n",
    "  arr의 index는 0번째부터 순서대로 a, b, c, ..., z에 대응된다.\n",
    "* **index(원소) 함수**는 해당 원소가 처음으로 등장하는 index를 반환해주는 함수이므로,  \n",
    "  이를 이용해서 arr의 원소 순서에 맞게 해당 원소의 위치가 들어가게끔 한다."
   ]
  },
  {
   "cell_type": "code",
   "execution_count": 7,
   "metadata": {},
   "outputs": [
    {
     "name": "stdout",
     "output_type": "stream",
     "text": [
      "1 0 -1 -1 2 -1 -1 -1 -1 4 3 -1 -1 7 5 -1 -1 -1 -1 -1 -1 -1 -1 -1 -1 -1\n"
     ]
    }
   ],
   "source": [
    "s = input()\n",
    "arr = [-1 for _ in range(26)]\n",
    "\n",
    "i = -1\n",
    "for _ in range(26):\n",
    "    i = i+1\n",
    "    if chr(97+i) in s:\n",
    "        arr[i] = s.index(chr(97+i))\n",
    "\n",
    "    else:\n",
    "        continue\n",
    "\n",
    "print(*arr)"
   ]
  }
 ],
 "metadata": {
  "kernelspec": {
   "display_name": "base",
   "language": "python",
   "name": "python3"
  },
  "language_info": {
   "codemirror_mode": {
    "name": "ipython",
    "version": 3
   },
   "file_extension": ".py",
   "mimetype": "text/x-python",
   "name": "python",
   "nbconvert_exporter": "python",
   "pygments_lexer": "ipython3",
   "version": "3.9.12"
  },
  "orig_nbformat": 4
 },
 "nbformat": 4,
 "nbformat_minor": 2
}
