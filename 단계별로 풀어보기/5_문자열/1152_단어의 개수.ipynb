{
 "cells": [
  {
   "attachments": {},
   "cell_type": "markdown",
   "metadata": {},
   "source": [
    "## 1152. 단어의 개수\n",
    "\n",
    "* **input() 함수**를 이용하여 입력을 받을 수 있다!  \n",
    "\n",
    "* **strip() 함수**는 문자열 양쪽에 존재하는 공백을 제거해준다.\n",
    "  * **lstrip() 함수**는 문자열 왼쪽의 공백을 제거해주고,  \n",
    "  * **rstrip() 함수**는 문자열 오른쪽의 공백을 제거해준다.  \n",
    "</br>\n",
    "\n",
    "* **split() 함수**는 입력을 띄어쓰기 기준으로 구분한다. 문장을 공백 기준으로 나누어 리스트로 반환한다."
   ]
  },
  {
   "cell_type": "code",
   "execution_count": 5,
   "metadata": {},
   "outputs": [
    {
     "name": "stdout",
     "output_type": "stream",
     "text": [
      "0\n"
     ]
    }
   ],
   "source": [
    "# 첫 번째로 생각해낸 방법\n",
    "\n",
    "# 처음에 s로 공백만 입력됐을 경우에 대한 예외 처리를 하지 않아서 틀렸다.\n",
    "# 공백만 주어져서 strip() 함수를 통해 아무것도 남지 않았을 때에 0을 출력하도록 바꾸었더니 맞았다.\n",
    "\n",
    "s = input()\n",
    "s = s.strip()\n",
    "\n",
    "if s == '':\n",
    "    print('0')\n",
    "else:\n",
    "    print(s.count(' ')+1)\n",
    "\n",
    "# 출력 결과 예시는 'The Curious Case of Benjamin Button'을 입력했을 때"
   ]
  },
  {
   "cell_type": "code",
   "execution_count": 6,
   "metadata": {},
   "outputs": [
    {
     "name": "stdout",
     "output_type": "stream",
     "text": [
      "6\n"
     ]
    }
   ],
   "source": [
    "# 두 번째 방법\n",
    "\n",
    "# 그동안 '여러 개의 입력'을 받기 위해 input() 함수와 결합하여 자주 사용했던 split() 함수에 또다른 key가 있었다.\n",
    "# split() 함수는 입력을 띄어쓰기를 기준으로 구분하기 때문에,\n",
    "# 아래의 경우 s는 공백을 기준으로 나뉘어 리스트로 변환된다.\n",
    "# 실제로 아래 예시에서 s를 출력해보면 ['The', 'Curious', 'Case', 'of', 'Benjamin', 'Button']이 나온다.\n",
    "\n",
    "s = input().split()\n",
    "print(len(s))"
   ]
  }
 ],
 "metadata": {
  "kernelspec": {
   "display_name": "base",
   "language": "python",
   "name": "python3"
  },
  "language_info": {
   "codemirror_mode": {
    "name": "ipython",
    "version": 3
   },
   "file_extension": ".py",
   "mimetype": "text/x-python",
   "name": "python",
   "nbconvert_exporter": "python",
   "pygments_lexer": "ipython3",
   "version": "3.9.12"
  },
  "orig_nbformat": 4
 },
 "nbformat": 4,
 "nbformat_minor": 2
}
