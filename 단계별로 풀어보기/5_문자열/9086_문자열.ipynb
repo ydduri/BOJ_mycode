{
 "cells": [
  {
   "attachments": {},
   "cell_type": "markdown",
   "metadata": {},
   "source": [
    "## 9086. 문자열\n",
    "\n",
    "* **input() 함수**를 이용하여 입력을 받을 수 있다!  \n",
    "\n",
    "* input() 함수는 입력 내용을 '문자열'로 취급하므로,  \n",
    "  숫자로 취급해야 하는 n_test만 **int() 함수**를 이용해 정수로 바꿔주고 다른 입력은 그대로 사용한다\n",
    "* Python에서 첫 번째 인덱스는 0부터 시작하므로, 이를 이용해서 문자열의 첫 글자를 찾는다\n",
    "* 문자열의 길이를 반환해주는 함수인 **len() 함수**를 활용해서 문자열의 마지막 글자 인덱스를 표현한다"
   ]
  },
  {
   "cell_type": "code",
   "execution_count": 1,
   "metadata": {},
   "outputs": [
    {
     "name": "stdout",
     "output_type": "stream",
     "text": [
      "AE\n",
      "OO\n",
      "AB\n"
     ]
    }
   ],
   "source": [
    "n_test = input()\n",
    "n_test = int(n_test)\n",
    "\n",
    "for i in range(n_test):\n",
    "    word = input()\n",
    "\n",
    "    print(word[0] + word[len(word)-1])\n",
    "\n",
    "# 출력 결과 예시는\n",
    "# n_test = 3\n",
    "# ACDKJFOWIEGHE / O / AB를 입력했을 때"
   ]
  }
 ],
 "metadata": {
  "kernelspec": {
   "display_name": "base",
   "language": "python",
   "name": "python3"
  },
  "language_info": {
   "codemirror_mode": {
    "name": "ipython",
    "version": 3
   },
   "file_extension": ".py",
   "mimetype": "text/x-python",
   "name": "python",
   "nbconvert_exporter": "python",
   "pygments_lexer": "ipython3",
   "version": "3.9.12"
  },
  "orig_nbformat": 4
 },
 "nbformat": 4,
 "nbformat_minor": 2
}
