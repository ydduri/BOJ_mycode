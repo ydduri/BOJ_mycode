{
 "cells": [
  {
   "attachments": {},
   "cell_type": "markdown",
   "metadata": {},
   "source": [
    "## 5622. 다이얼\n",
    "\n",
    "* **input() 함수**를 이용하여 입력을 받을 수 있다!  \n",
    "\n",
    "* input() 함수는 입력 내용을 '문자열'로 취급하므로 그대로 사용하면 된다!"
   ]
  },
  {
   "cell_type": "code",
   "execution_count": 8,
   "metadata": {},
   "outputs": [
    {
     "name": "stdout",
     "output_type": "stream",
     "text": [
      "36\n"
     ]
    }
   ],
   "source": [
    "# 첫 번째로 생각해낸 방법... 코드를 짜면서도 정말 비효율적이라는 생각이 들었는데 실제로도 그랬다.\n",
    "\n",
    "s = input()\n",
    "\n",
    "arr2 = ['A', 'B', 'C']\n",
    "arr3 = ['D', 'E', 'F']\n",
    "arr4 = ['G', 'H', 'I']\n",
    "arr5 = ['J', 'K', 'L']\n",
    "arr6 = ['M', 'N', 'O']\n",
    "arr7 = ['P', 'Q', 'R', 'S']\n",
    "arr8 = ['T', 'U', 'V']\n",
    "arr9 = ['W', 'X', 'Y', 'Z']\n",
    "\n",
    "temp = 0\n",
    "i = 0\n",
    "\n",
    "for _ in range(len(s)):\n",
    "    if s[i] in arr2:\n",
    "        temp = temp + 3\n",
    "        i = i + 1\n",
    "        continue\n",
    "    \n",
    "    elif s[i] in arr3:\n",
    "        temp = temp + 4\n",
    "        i = i + 1\n",
    "        continue\n",
    "\n",
    "    elif s[i] in arr4:\n",
    "        temp = temp + 5\n",
    "        i = i + 1\n",
    "        continue\n",
    "\n",
    "    elif s[i] in arr5:\n",
    "        temp = temp + 6\n",
    "        i = i + 1\n",
    "        continue\n",
    "\n",
    "    elif s[i] in arr6:\n",
    "        temp = temp + 7\n",
    "        i = i + 1\n",
    "        continue\n",
    "\n",
    "    elif s[i] in arr7:\n",
    "        temp = temp + 8\n",
    "        i = i + 1\n",
    "        continue\n",
    "\n",
    "    elif s[i] in arr8:\n",
    "        temp = temp + 9\n",
    "        i = i + 1\n",
    "        continue\n",
    "\n",
    "    elif s[i] in arr9:\n",
    "        temp = temp + 10\n",
    "        i = i + 1\n",
    "        continue\n",
    "\n",
    "print(temp)\n",
    "\n",
    "# 출력 결과 예시는 UNUCIC를 입력했을 때"
   ]
  },
  {
   "cell_type": "code",
   "execution_count": 10,
   "metadata": {},
   "outputs": [
    {
     "name": "stdout",
     "output_type": "stream",
     "text": [
      "13\n"
     ]
    }
   ],
   "source": [
    "# 위의 코드가 너무 비효율적인 것 같아서 찾아본 다른 방법\n",
    "# 'ABC' 이런 식으로 하나의 숫자에 할당된 알파벳을 하나의 요소로서 취급하는 리스트를 제작한 뒤.\n",
    "# 리스트의 인덱스를 활용해서 시간을 출력하는 방식이라 반복되는 부분을 최소화한 효율적인 코드를 짤 수 있다는 장점이 있다.\n",
    "\n",
    "s = input()\n",
    "\n",
    "arr = ['ABC', 'DEF', 'GHI', 'JKL', 'MNO', 'PQRS', 'TUV', 'WXYZ']\n",
    "\n",
    "time = 0\n",
    "\n",
    "for unit in arr: # arr 리스트 안에 있는 각 요소(ex. 'ABC')에 대하여,\n",
    "    for i in unit: # 또다시 그 각 요소를 글자 단위로 분리(ex. 'ABC'를 'A', 'B', 'C'로)\n",
    "        for x in s: # input을 통해 입력 받은 문자도 한 글자씩 분리\n",
    "            if i == x:\n",
    "                time = time + arr.index(unit) + 3\n",
    "                # arr의 첫 번째 요소인 'ABC'는 다이얼상으로 2번인데, 1번을 걸려면 2초가 필요하고, 한 칸 옆의 숫자를 걸기 위해선 1초씩 더 걸린다고 하였으므로\n",
    "                # 2번은 2초+1초, 3번은 2초+2초 이렇게 1, 2, 3... 숫자가 하나씩 커지며 더해지게 된다.\n",
    "                # 그런데 Python은 리스트의 인덱스를 0부터 카운팅하므로 +2가 아니라 +3을 더해줌으로써 'ABC', 'DEF'... 이런 알파벳에 따라 다른 숫자가 더해지도록 만들었다.\n",
    "\n",
    "print(time)"
   ]
  }
 ],
 "metadata": {
  "kernelspec": {
   "display_name": "base",
   "language": "python",
   "name": "python3"
  },
  "language_info": {
   "codemirror_mode": {
    "name": "ipython",
    "version": 3
   },
   "file_extension": ".py",
   "mimetype": "text/x-python",
   "name": "python",
   "nbconvert_exporter": "python",
   "pygments_lexer": "ipython3",
   "version": "3.9.12"
  },
  "orig_nbformat": 4
 },
 "nbformat": 4,
 "nbformat_minor": 2
}
