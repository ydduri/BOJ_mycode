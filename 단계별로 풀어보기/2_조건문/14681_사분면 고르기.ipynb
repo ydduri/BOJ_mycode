{
 "cells": [
  {
   "attachments": {},
   "cell_type": "markdown",
   "metadata": {},
   "source": [
    "## 14681. 사분면 고르기\n",
    "\n",
    "* **input() 함수**를 이용하여 입력을 받을 수 있다!  \n",
    "\n",
    "* input() 함수는 입력 내용을 '문자열'로 취급한다는 특징이 있는데,  \n",
    "우리는 숫자 연산을 수행하고 싶으므로 입력받은 x, y 각각을 **int() 함수**를 이용해 정수형으로 바꿔준다!\n",
    "\n",
    "* **if 문**을 활용해보자"
   ]
  },
  {
   "cell_type": "code",
   "execution_count": 1,
   "metadata": {},
   "outputs": [
    {
     "name": "stdout",
     "output_type": "stream",
     "text": [
      "1\n"
     ]
    }
   ],
   "source": [
    "# 계속 런타임 에러가 떠서 뭐지 싶었는데 x와 y가 개행으로 주어진다는 문제 조건을 놓치고 split 함수를 쓰고 있었다...\n",
    "# 결론: 문제를 잘 읽자\n",
    "\n",
    "x = input()\n",
    "y = input()\n",
    "\n",
    "x = int(x)\n",
    "y = int(y)\n",
    "\n",
    "if x > 0 and y > 0:\n",
    "    print('1')\n",
    "\n",
    "elif x < 0 and y > 0:\n",
    "    print('2')\n",
    "\n",
    "elif x < 0 and y < 0:\n",
    "    print('3')\n",
    "\n",
    "elif x > 0 and y < 0:\n",
    "    print('4')\n",
    "\n",
    "# 출력 결과 예시는 x = 12, y = 5를 입력했을 때"
   ]
  }
 ],
 "metadata": {
  "kernelspec": {
   "display_name": "base",
   "language": "python",
   "name": "python3"
  },
  "language_info": {
   "codemirror_mode": {
    "name": "ipython",
    "version": 3
   },
   "file_extension": ".py",
   "mimetype": "text/x-python",
   "name": "python",
   "nbconvert_exporter": "python",
   "pygments_lexer": "ipython3",
   "version": "3.9.12"
  },
  "orig_nbformat": 4,
  "vscode": {
   "interpreter": {
    "hash": "5be35f2e2fb6a33c998b605ceb556a15ef4cec1e92c31780438adb4cd1649681"
   }
  }
 },
 "nbformat": 4,
 "nbformat_minor": 2
}
