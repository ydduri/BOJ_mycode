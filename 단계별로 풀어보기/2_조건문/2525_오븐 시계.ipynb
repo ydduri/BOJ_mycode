{
 "cells": [
  {
   "attachments": {},
   "cell_type": "markdown",
   "metadata": {},
   "source": [
    "## 2525. 오븐 시계\n",
    "\n",
    "* **input() 함수**를 이용하여 입력을 받을 수 있다!  \n",
    "\n",
    "* **split() 함수**를 이용하면 '여러 개의 입력'을 받을 수 있다. 여러 개 입력은 띄어쓰기로 구분된다!\n",
    "* input() 함수는 입력 내용을 '문자열'로 취급한다는 특징이 있는데,  \n",
    "우리는 숫자 연산을 수행하고 싶으므로 입력받은 a, b 각각을 **int() 함수**를 이용해 정수형으로 바꿔준다!  \n",
    "\n",
    "* 부등호 놓침과 같은 예외 처리에 주의하자! 두, 세번째 elif문의 분 조건에서 등호를 빼먹어서 계속 틀렸다...\n",
    "\n",
    "* **if 문**을 활용해보자  \n",
    "  * 조리 시간(c)과 b를 더한 값이 60을 넘지 않는다면 분은 b와 c의 합, 시간은 입력받은 a를 그대로 출력한다\n",
    "  * 조리 시간(c)과 b를 더한 값이 60을 넘는 경우는, 결과 시간이 24를 넘지 않는 경우와 같거나 큰 경우로 나누어 생각했다\n",
    "  * 24를 넘지 않는 경우 시간은 b+c를 60으로 나눴을 때의 몫을 더해주고, 분은 b+c를 60으로 나눴을 때의 나머지로 한다\n",
    "  * 24와 같거나 큰 경우 시간은 24-((b+c)//60)을 해주고, 분은 마찬가지로 b+c를 60으로 나눴을 때의 나머지로 한다"
   ]
  },
  {
   "cell_type": "code",
   "execution_count": 1,
   "metadata": {},
   "outputs": [
    {
     "name": "stdout",
     "output_type": "stream",
     "text": [
      "0 13\n"
     ]
    }
   ],
   "source": [
    "a, b = input().split()\n",
    "c = input()\n",
    "\n",
    "a = int(a)\n",
    "b = int(b)\n",
    "c = int(c)\n",
    "\n",
    "if b+c < 60:\n",
    "    print(a, b+c)\n",
    "\n",
    "elif a+(b+c)//60 < 24 and b+c >= 60:\n",
    "    print(a+(b+c)//60, (b+c)%60)\n",
    "\n",
    "elif a+(b+c)//60 >= 24 and b+c >= 60:\n",
    "    print((a+(b+c)//60)-24, (b+c)%60)\n",
    "\n",
    "# 출력 결과 예시는 a = 23, b = 48, c = 25를 입력했을 때"
   ]
  }
 ],
 "metadata": {
  "kernelspec": {
   "display_name": "base",
   "language": "python",
   "name": "python3"
  },
  "language_info": {
   "codemirror_mode": {
    "name": "ipython",
    "version": 3
   },
   "file_extension": ".py",
   "mimetype": "text/x-python",
   "name": "python",
   "nbconvert_exporter": "python",
   "pygments_lexer": "ipython3",
   "version": "3.9.12"
  },
  "orig_nbformat": 4
 },
 "nbformat": 4,
 "nbformat_minor": 2
}
