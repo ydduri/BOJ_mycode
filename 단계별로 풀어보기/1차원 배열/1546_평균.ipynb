{
 "cells": [
  {
   "attachments": {},
   "cell_type": "markdown",
   "metadata": {},
   "source": [
    "## 1546. 평균\n",
    "\n",
    "* **input() 함수**를 이용하여 입력을 받을 수 있다!  \n",
    "\n",
    "* input() 함수는 입력 내용을 '문자열'로 취급한다는 특징이 있는데,  \n",
    "  우리는 숫자, 특히 실수 연산을 수행하고 싶으므로 입력받은 숫자들을 **float() 함수**를 이용해 실수형으로 취급한다!\n",
    "\n",
    "* 최댓값으로 나눈 뒤 100을 곱한 새로운 점수를 담기 위해 arr2라는 배열을 생성한다\n",
    "\n",
    "* 새로운 평균을 구하는 과정에서 합을 구하기 위한 기본적인 아이디어는 '단계별로 풀어보기-반복문-8393_합'과 동일하다"
   ]
  },
  {
   "cell_type": "code",
   "execution_count": 12,
   "metadata": {},
   "outputs": [
    {
     "name": "stdout",
     "output_type": "stream",
     "text": [
      "75.0\n"
     ]
    }
   ],
   "source": [
    "N = int(input())\n",
    "\n",
    "arr1 = list(map(float, input().split()))\n",
    "\n",
    "arr2 = []\n",
    "for i in arr1:\n",
    "    arr2.append(i/max(arr1)*100)\n",
    "\n",
    "temp = 0\n",
    "for i in range(N):\n",
    "    temp = temp + float(arr2[i])\n",
    "    i = i+1\n",
    "\n",
    "print(temp/N)\n",
    "\n",
    "# 출력 결과 예시는 N = 3, 현재 성적 40, 80, 60을 입력했을 때"
   ]
  }
 ],
 "metadata": {
  "kernelspec": {
   "display_name": "base",
   "language": "python",
   "name": "python3"
  },
  "language_info": {
   "codemirror_mode": {
    "name": "ipython",
    "version": 3
   },
   "file_extension": ".py",
   "mimetype": "text/x-python",
   "name": "python",
   "nbconvert_exporter": "python",
   "pygments_lexer": "ipython3",
   "version": "3.9.12"
  },
  "orig_nbformat": 4
 },
 "nbformat": 4,
 "nbformat_minor": 2
}
