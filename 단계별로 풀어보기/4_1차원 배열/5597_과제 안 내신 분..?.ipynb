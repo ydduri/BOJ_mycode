{
 "cells": [
  {
   "attachments": {},
   "cell_type": "markdown",
   "metadata": {},
   "source": [
    "## 5597. 과제 안 내신 분..?\n",
    "\n",
    "* **input() 함수**를 이용하여 입력을 받을 수 있다!  \n",
    "\n",
    "* 우선 빈 배열인 arr1을 선언하고, input() 함수를 통해 입력받은 값을 append하여 arr1을 만든다\n",
    "* 마찬가지로 빈 배열인 arr2를 선언하고, 1부터 30까지의 숫자 중에서 arr1에 없는 값만 append한다\n",
    "  * 숫자가 어떤 배열에 포함되어 있는지 아닌지는 **in** 혹은 **not in**을 이용해서 검사할 수 있다  \n",
    "  \n",
    "  * **이때 i가 정수이므로 arr1 안의 원소도 정수형이어야 한다는 점에 주의하자!  \n",
    "    int() 함수를 이용해 꼭 정수로 바꿔주어야 한다**  \n",
    "    -> 이걸 놓치는 바람에 에러 계속 나서 고생했다...\n",
    "  * 1부터 30까지의 숫자를 차례로 검사하므로 자동으로 오름차순 정렬이 되어 있는 상태이다  \n",
    "  * 따라서 출력 시에는 0번째, 1번째 인덱스를 가지는 원소를 차례로 출력하면 된다"
   ]
  },
  {
   "cell_type": "code",
   "execution_count": 13,
   "metadata": {},
   "outputs": [
    {
     "name": "stdout",
     "output_type": "stream",
     "text": [
      "2\n",
      "8\n"
     ]
    }
   ],
   "source": [
    "arr1 = []\n",
    "\n",
    "for i in range(28):\n",
    "    a = int(input())\n",
    "    arr1.append(a)\n",
    "\n",
    "arr2 = []\n",
    "\n",
    "for i in range(1, 31):\n",
    "    if i not in arr1:\n",
    "        arr2.append(i)\n",
    "\n",
    "    else:\n",
    "        continue\n",
    "\n",
    "print(arr2[0])\n",
    "print(arr2[1])\n",
    "\n",
    "# 출력 결과 예시는 5579번의 예제 입력 2를 그대로 입력했을 때"
   ]
  }
 ],
 "metadata": {
  "kernelspec": {
   "display_name": "base",
   "language": "python",
   "name": "python3"
  },
  "language_info": {
   "codemirror_mode": {
    "name": "ipython",
    "version": 3
   },
   "file_extension": ".py",
   "mimetype": "text/x-python",
   "name": "python",
   "nbconvert_exporter": "python",
   "pygments_lexer": "ipython3",
   "version": "3.9.12"
  },
  "orig_nbformat": 4
 },
 "nbformat": 4,
 "nbformat_minor": 2
}
