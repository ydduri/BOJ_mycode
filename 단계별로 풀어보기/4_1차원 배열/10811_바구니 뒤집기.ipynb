{
 "cells": [
  {
   "attachments": {},
   "cell_type": "markdown",
   "metadata": {},
   "source": [
    "## 10811. 바구니 뒤집기\n",
    "\n",
    "* **input() 함수**를 이용하여 입력을 받을 수 있다!  \n",
    "\n",
    "* **split() 함수**를 이용하면 '여러 개의 입력'을 받을 수 있다. 여러 개 입력은 띄어쓰기로 구분된다!\n",
    "* **map() 함수**는 여러 개의 입력을 정수형으로 바꾸는 과정을 한 줄에 수행할 수 있도록 해준다.\n",
    "\n",
    "* 값을 바꿀 때는 원래 arr[i]에 있던 값을 temp에 저장하고, arr[i] 자리에 arr[j] 값을 넣고,  \n",
    "  arr[j] 자리에 앞서 temp에 저장했던 arr[i]의 값을 할당하는 3 step을 거쳐야 한다\n",
    "\n",
    "* 첫 번째 바구니<->마지막 바구니, 두 번째 바구니<->끝에서 두 번째 바구니... 이런 식으로 바꿔나가다 보면  \n",
    "  바구니를 역순으로 만드는 게 가능하겠다는 아이디어에서 출발했다.\n",
    "\n",
    "* 앞에서부터 첫 번째, 두 번째... 뒤에서부터 첫 번째, 두 번째... 이런 식으로 짝을 지어 바꿔 나가야 하므로  \n",
    "  시작을 나타내는 인덱스 i는 1씩 더하고, 끝을 나타내는 인덱스 j는 1씩 빼면서 각 숫자를 업데이트한다.\n",
    "\n",
    "* 그러다보면 시작 인덱스였던 i는 그 숫자가 점점 커지고, 끝 인덱스였던 j는 그 숫자가 점점 줄어들면서,  \n",
    "  i가 j와 같거나 커지는 상황이 올텐데, 이는 모든 바구니가 정렬되었음을 의미하므로 이때 break를 통해 반복문을 빠져나간다."
   ]
  },
  {
   "cell_type": "code",
   "execution_count": 6,
   "metadata": {},
   "outputs": [
    {
     "name": "stdout",
     "output_type": "stream",
     "text": [
      "3 4 1 2 5\n"
     ]
    }
   ],
   "source": [
    "N, M = map(int, input().split())\n",
    "\n",
    "arr = list(range(1, N+1))\n",
    "\n",
    "for _ in range(M):\n",
    "    i, j = map(int, input().split())\n",
    "\n",
    "    for _ in range(i, j+1):\n",
    "        temp = arr[i-1]\n",
    "        arr[i-1] = arr[j-1]\n",
    "        arr[j-1] = temp\n",
    "        i = i+1\n",
    "        j = j-1\n",
    "\n",
    "        if i>=j:\n",
    "            break\n",
    "\n",
    "print(*arr)\n",
    "\n",
    "# 출력 결과 예시는 10811번의 예제 입력 1을 그대로 입력했을 때"
   ]
  }
 ],
 "metadata": {
  "kernelspec": {
   "display_name": "base",
   "language": "python",
   "name": "python3"
  },
  "language_info": {
   "codemirror_mode": {
    "name": "ipython",
    "version": 3
   },
   "file_extension": ".py",
   "mimetype": "text/x-python",
   "name": "python",
   "nbconvert_exporter": "python",
   "pygments_lexer": "ipython3",
   "version": "3.9.12"
  },
  "orig_nbformat": 4
 },
 "nbformat": 4,
 "nbformat_minor": 2
}
