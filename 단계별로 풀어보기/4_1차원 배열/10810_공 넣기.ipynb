{
 "cells": [
  {
   "attachments": {},
   "cell_type": "markdown",
   "metadata": {},
   "source": [
    "## 10810. 공 넣기\n",
    "\n",
    "* **input() 함수**를 이용하여 입력을 받을 수 있다!  \n",
    "\n",
    "* **split() 함수**를 이용하면 '여러 개의 입력'을 받을 수 있다. 여러 개 입력은 띄어쓰기로 구분된다!\n",
    "* **map() 함수**는 여러 개의 입력을 정수형으로 바꾸는 과정을 한 줄에 수행할 수 있도록 해준다.\n",
    "\n",
    "* 인덱스에 조심하자! 우리는 i부터 j번째까지를 k라는 수로 바꾸고 싶은 것이지만,  \n",
    "  Python에서 첫 번째 인덱스는 0부터 시작하므로 i-1부터 j까지로 써주면 된다"
   ]
  },
  {
   "cell_type": "code",
   "execution_count": 8,
   "metadata": {},
   "outputs": [
    {
     "name": "stdout",
     "output_type": "stream",
     "text": [
      "1 2 1 1 0\n"
     ]
    }
   ],
   "source": [
    "# 처음에 떠올린 아이디어인데... 백준에서는 numpy처럼 pip을 이용해서\n",
    "# 설치해야 하는 라이브러리는 사용이 불가하다고 한다...(표준 라이브러리만 사용 가능)\n",
    "\n",
    "import numpy as np\n",
    "\n",
    "N, M = map(int, input().split())\n",
    "\n",
    "arr = np.zeros(N, dtype='i')\n",
    "\n",
    "for n in range(M):\n",
    "    i, j, k = map(int, input().split())\n",
    "    arr[i-1:j] = k\n",
    "\n",
    "print(*arr)\n",
    "\n",
    "# 출력 결과 예시는 10810번의 예제 입력 1을 그대로 입력했을 때"
   ]
  },
  {
   "cell_type": "code",
   "execution_count": 9,
   "metadata": {},
   "outputs": [
    {
     "name": "stdout",
     "output_type": "stream",
     "text": [
      "1 2 1 1 0\n"
     ]
    }
   ],
   "source": [
    "N, M = map(int, input().split())\n",
    "\n",
    "arr = [0 for _ in range(N)]\n",
    "# arr = [0]*N\n",
    "\n",
    "for _ in range(M):\n",
    "    i, j, k = map(int, input().split())\n",
    "\n",
    "    for n in range(i-1, j):\n",
    "        arr[n] = k\n",
    "\n",
    "print(*arr)\n",
    "\n",
    "# 출력 결과 예시는 10810번의 예제 입력 1을 그대로 입력했을 때"
   ]
  }
 ],
 "metadata": {
  "kernelspec": {
   "display_name": "base",
   "language": "python",
   "name": "python3"
  },
  "language_info": {
   "codemirror_mode": {
    "name": "ipython",
    "version": 3
   },
   "file_extension": ".py",
   "mimetype": "text/x-python",
   "name": "python",
   "nbconvert_exporter": "python",
   "pygments_lexer": "ipython3",
   "version": "3.9.12"
  },
  "orig_nbformat": 4
 },
 "nbformat": 4,
 "nbformat_minor": 2
}
