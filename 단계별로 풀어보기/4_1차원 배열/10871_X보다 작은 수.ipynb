{
 "cells": [
  {
   "attachments": {},
   "cell_type": "markdown",
   "metadata": {},
   "source": [
    "## 10871. X보다 작은 수\n",
    "\n",
    "* **input() 함수**를 이용하여 입력을 받을 수 있다!  \n",
    "\n",
    "* **split() 함수**를 이용하면 '여러 개의 입력'을 받을 수 있다. 여러 개 입력은 띄어쓰기로 구분된다!\n",
    "* **map() 함수**는 여러 개의 입력을 정수형으로 바꾸는 과정을 한 줄에 수행할 수 있도록 해준다.\n",
    "\n",
    "* **list() 함수**를 이용해서 입력되는 숫자들을 리스트 형태로 받으면 한 줄에 여러 숫자를 입력할 수 있다\n",
    "\n",
    "* **for 문**과 **if 문**을 함께 활용해서, 리스트 내 원소가 X보다 작으면 해당 원소를 결과 리스트인 result에 추가하고,\n",
    "그렇지 않을 경우 continue를 통해 계속 반복하도록 해보자\n",
    "\n",
    "* **출력하고자 하는 리스트명 앞에 '*'을 붙이면 대괄호 없이 원소만 출력할 수 있다**"
   ]
  },
  {
   "cell_type": "code",
   "execution_count": 2,
   "metadata": {},
   "outputs": [
    {
     "name": "stdout",
     "output_type": "stream",
     "text": [
      "1 4 2 3\n"
     ]
    }
   ],
   "source": [
    "N, X = map(int, input().split())\n",
    "\n",
    "arr = list(map(int, input().split()))\n",
    "\n",
    "result = []\n",
    "\n",
    "for i in arr:\n",
    "    if i < X:\n",
    "        result.append(i)\n",
    "\n",
    "    else:\n",
    "        continue\n",
    "\n",
    "print(*result)\n",
    "\n",
    "# 출력 결과 예시는 N = 10, X = 5, arr = 1 10 4 9 2 3 8 5 7 6을 입력했을 때"
   ]
  }
 ],
 "metadata": {
  "kernelspec": {
   "display_name": "base",
   "language": "python",
   "name": "python3"
  },
  "language_info": {
   "codemirror_mode": {
    "name": "ipython",
    "version": 3
   },
   "file_extension": ".py",
   "mimetype": "text/x-python",
   "name": "python",
   "nbconvert_exporter": "python",
   "pygments_lexer": "ipython3",
   "version": "3.9.12"
  },
  "orig_nbformat": 4
 },
 "nbformat": 4,
 "nbformat_minor": 2
}
