{
 "cells": [
  {
   "attachments": {},
   "cell_type": "markdown",
   "metadata": {},
   "source": [
    "## 3052. 나머지\n",
    "\n",
    "* **input() 함수**를 이용하여 입력을 받을 수 있다!  \n",
    "\n",
    "* 우선 빈 배열인 arr1을 선언하고, input() 함수를 통해 입력받은 값을 append하여 arr1을 만든다\n",
    "* 마찬가지로 빈 배열인 arr2를 선언하고, arr1에 있는 각 원소를 42로 나눈 나머지를 append하여 arr2를 만든다\n",
    "* **set type**은 list에서 고유한 값만 가져올 수 있도록 해주는데,  \n",
    "  indexing이 안 되는 등 제약이 있어 고유값 추출 용도로만 사용하고 다시 list로 바꿔 주는 것이 좋다"
   ]
  },
  {
   "cell_type": "code",
   "execution_count": 2,
   "metadata": {},
   "outputs": [
    {
     "name": "stdout",
     "output_type": "stream",
     "text": [
      "1\n"
     ]
    }
   ],
   "source": [
    "arr1 = []\n",
    "for i in range(10):\n",
    "    N = int(input())\n",
    "    arr1.append(N)\n",
    "\n",
    "arr2 = []\n",
    "for j in arr1:\n",
    "    arr2.append(j%42)\n",
    "\n",
    "print(len(list(set(arr2))))\n",
    "\n",
    "# 출력 결과 예시는 3052번의 예제 입력 2를 그대로 입력했을 때"
   ]
  }
 ],
 "metadata": {
  "kernelspec": {
   "display_name": "base",
   "language": "python",
   "name": "python3"
  },
  "language_info": {
   "codemirror_mode": {
    "name": "ipython",
    "version": 3
   },
   "file_extension": ".py",
   "mimetype": "text/x-python",
   "name": "python",
   "nbconvert_exporter": "python",
   "pygments_lexer": "ipython3",
   "version": "3.9.12"
  },
  "orig_nbformat": 4
 },
 "nbformat": 4,
 "nbformat_minor": 2
}
