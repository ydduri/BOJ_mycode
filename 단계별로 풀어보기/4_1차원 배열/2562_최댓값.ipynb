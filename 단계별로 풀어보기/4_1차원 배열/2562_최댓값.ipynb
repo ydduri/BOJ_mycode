{
 "cells": [
  {
   "attachments": {},
   "cell_type": "markdown",
   "metadata": {},
   "source": [
    "## 2562. 최댓값\n",
    "\n",
    "* **input() 함수**를 이용하여 입력을 받을 수 있다!  \n",
    "\n",
    "* **max() 함수**, **index() 함수**를 이용해서 각각 최댓값과 조건에 맞는 인덱스를 출력해보자\n",
    "  * 다만 python에서는 index number가 0부터 시작하므로,  \n",
    "    우리가 원하는 'n번째 수'에 해당하는 숫자 n을 출력하기 위해선 .index를 통해 찾은 결과에 1을 더해야 한다"
   ]
  },
  {
   "cell_type": "code",
   "execution_count": 2,
   "metadata": {},
   "outputs": [
    {
     "name": "stdout",
     "output_type": "stream",
     "text": [
      "85\n",
      "8\n"
     ]
    }
   ],
   "source": [
    "arr = []\n",
    "\n",
    "for i in range (9):\n",
    "    a = int(input())\n",
    "    arr.append(a)\n",
    "\n",
    "print(max(arr))\n",
    "print(arr.index(max(arr))+1)\n",
    "\n",
    "# 출력 결과 예시는 3 29 38 12 57 74 40 85 61을 입력했을 때"
   ]
  }
 ],
 "metadata": {
  "kernelspec": {
   "display_name": "base",
   "language": "python",
   "name": "python3"
  },
  "language_info": {
   "codemirror_mode": {
    "name": "ipython",
    "version": 3
   },
   "file_extension": ".py",
   "mimetype": "text/x-python",
   "name": "python",
   "nbconvert_exporter": "python",
   "pygments_lexer": "ipython3",
   "version": "3.9.12"
  },
  "orig_nbformat": 4
 },
 "nbformat": 4,
 "nbformat_minor": 2
}
