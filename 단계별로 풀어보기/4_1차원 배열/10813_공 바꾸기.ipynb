{
 "cells": [
  {
   "attachments": {},
   "cell_type": "markdown",
   "metadata": {},
   "source": [
    "## 10813. 공 바꾸기\n",
    "\n",
    "* **input() 함수**를 이용하여 입력을 받을 수 있다!  \n",
    "\n",
    "* **split() 함수**를 이용하면 '여러 개의 입력'을 받을 수 있다. 여러 개 입력은 띄어쓰기로 구분된다!\n",
    "* **map() 함수**는 여러 개의 입력을 정수형으로 바꾸는 과정을 한 줄에 수행할 수 있도록 해준다.\n",
    "\n",
    "* 값을 바꿀 때는 원래 arr[i]에 있던 값을 temp에 저장하고, arr[i] 자리에 arr[j] 값을 넣고,  \n",
    "  arr[j] 자리에 앞서 temp에 저장했던 arr[i]의 값을 할당하는 3 step을 거쳐야 한다\n",
    "\n",
    "* 인덱스에 조심하자! 우리는 i부터 j번째까지를 k라는 수로 바꾸고 싶은 것이지만,  \n",
    "  Python에서 첫 번째 인덱스는 0부터 시작하므로 i-1부터 j까지로 써주면 된다"
   ]
  },
  {
   "cell_type": "code",
   "execution_count": 3,
   "metadata": {},
   "outputs": [
    {
     "name": "stdout",
     "output_type": "stream",
     "text": [
      "3 1 4 2 5\n"
     ]
    }
   ],
   "source": [
    "N, M = map(int, input().split())\n",
    "\n",
    "arr = list(range(1, N+1))\n",
    "\n",
    "for _ in range(M):\n",
    "    i, j = map(int, input().split())\n",
    "\n",
    "    temp = arr[i-1]\n",
    "    arr[i-1] = arr[j-1]\n",
    "    arr[j-1] = temp\n",
    "\n",
    "print(*arr)"
   ]
  }
 ],
 "metadata": {
  "kernelspec": {
   "display_name": "base",
   "language": "python",
   "name": "python3"
  },
  "language_info": {
   "codemirror_mode": {
    "name": "ipython",
    "version": 3
   },
   "file_extension": ".py",
   "mimetype": "text/x-python",
   "name": "python",
   "nbconvert_exporter": "python",
   "pygments_lexer": "ipython3",
   "version": "3.9.12"
  },
  "orig_nbformat": 4
 },
 "nbformat": 4,
 "nbformat_minor": 2
}
