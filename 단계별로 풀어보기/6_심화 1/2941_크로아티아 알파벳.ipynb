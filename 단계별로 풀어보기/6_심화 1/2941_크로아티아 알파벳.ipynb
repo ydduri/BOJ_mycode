{
 "cells": [
  {
   "attachments": {},
   "cell_type": "markdown",
   "metadata": {},
   "source": [
    "## 2941. 크로아티아 알파벳\n",
    "\n",
    "* **input() 함수**를 이용하여 입력을 받을 수 있다!  \n",
    "\n",
    "* input() 함수는 입력 내용을 '문자열'로 취급하므로 그대로 사용하면 된다!\n",
    "\n",
    "* 단순히 len() 함수를 사용할 경우 한 글자로 취급해야 하는 'c='와 같은 크로아티아 알파벳을  \n",
    "  두 글자로 인식하기 때문에, 크로아티아 알파벳을 탐색하여 하나의 글자로 바꾸어 주는 과정을 먼저 거친다.\n",
    "\n",
    "* 크로아티아 알파벳을 담은 croatia라는 이름의 리스트를 생성한 뒤,  \n",
    "  입력받은 단어 s에 대하여 s안의 문자열 중 크로아티아 알파벳에 해당하는 것이 있다면 A라는 하나의 글자로 바꾸어준다.\n",
    "\n",
    "* 그런 다음 단어의 길이를 출력하면 원하는 대로 정확한 길이를 뽑아낼 수 있다."
   ]
  },
  {
   "cell_type": "code",
   "execution_count": 8,
   "metadata": {},
   "outputs": [
    {
     "name": "stdout",
     "output_type": "stream",
     "text": [
      "3\n"
     ]
    }
   ],
   "source": [
    "s = input()\n",
    "\n",
    "croatia = ['c=', 'c-', 'dz=', 'd-', 'lj', 'nj', 's=', 'z=']\n",
    "\n",
    "for i in range(len(croatia)):\n",
    "    s = s.replace(croatia[i], 'A')\n",
    "\n",
    "print(len(s))\n",
    "\n",
    "# 출력 결과 예시는 s = dz=ak를 입력했을 때"
   ]
  }
 ],
 "metadata": {
  "kernelspec": {
   "display_name": "base",
   "language": "python",
   "name": "python3"
  },
  "language_info": {
   "codemirror_mode": {
    "name": "ipython",
    "version": 3
   },
   "file_extension": ".py",
   "mimetype": "text/x-python",
   "name": "python",
   "nbconvert_exporter": "python",
   "pygments_lexer": "ipython3",
   "version": "3.9.12"
  },
  "orig_nbformat": 4
 },
 "nbformat": 4,
 "nbformat_minor": 2
}
