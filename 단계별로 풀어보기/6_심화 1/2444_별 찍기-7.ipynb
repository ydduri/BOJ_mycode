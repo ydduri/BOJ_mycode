{
 "cells": [
  {
   "attachments": {},
   "cell_type": "markdown",
   "metadata": {},
   "source": [
    "## 2444. 별 찍기-7\n",
    "\n",
    "* **input() 함수**를 이용하여 입력을 받을 수 있다!  \n",
    "\n",
    "* input() 함수는 입력 내용을 '문자열'로 취급한다는 특징이 있는데,  \n",
    "입력받은 수를 '숫자'로 취급하고 싶으므로 **int() 함수**를 이용해 정수형으로 바꿔준다!\n",
    "\n",
    "* 반복되는 * 기호를 var이라는 변수에 넣고, **center() 함수**를 사용해  \n",
    "  이 변수의 실질적인 내용물인 * 기호가 가운데 정렬될 수 있게끔 하였다.  \n",
    "\n",
    "  * 다만 center() 함수를 사용할 경우 '   *   ' 이런 식으로 오른편에도 불필요한 공백이 생기게 되는데,  \n",
    "    이를 지워서 '   *' 이런 식으로 표현하기 위해 문자열의 오른편 공백을 제거해주는 **rstrip() 함수**를 사용했다.  \n",
    "    만일 '출력 형식이 잘못되었습니다'라는 에러가 뜨는 분들이라면 문자열 오른쪽에 공백이 있지는 않은지 확인해보시면 좋을 것 같다!"
   ]
  },
  {
   "cell_type": "code",
   "execution_count": 24,
   "metadata": {},
   "outputs": [
    {
     "name": "stdout",
     "output_type": "stream",
     "text": [
      "    *\n",
      "   ***\n",
      "  *****\n",
      " *******\n",
      "*********\n",
      " *******\n",
      "  *****\n",
      "   ***\n",
      "    *\n"
     ]
    }
   ],
   "source": [
    "n = int(input())\n",
    "i = 1\n",
    "m = 1\n",
    "\n",
    "for _ in range(2*n-1):\n",
    "    if i <= n:\n",
    "        var = '*'*(2*i-1)\n",
    "        print(var.center(2*n-1).rstrip())\n",
    "        i = i+1\n",
    "\n",
    "    else:\n",
    "        var = '*'*((2*n-1)-2*m)\n",
    "        print(var.center(2*n-1).rstrip())\n",
    "        i = i+1\n",
    "        m = m+1\n",
    "\n",
    "# 출력 결과 예시는 n = 5를 입력했을 때"
   ]
  }
 ],
 "metadata": {
  "kernelspec": {
   "display_name": "base",
   "language": "python",
   "name": "python3"
  },
  "language_info": {
   "codemirror_mode": {
    "name": "ipython",
    "version": 3
   },
   "file_extension": ".py",
   "mimetype": "text/x-python",
   "name": "python",
   "nbconvert_exporter": "python",
   "pygments_lexer": "ipython3",
   "version": "3.9.12"
  },
  "orig_nbformat": 4
 },
 "nbformat": 4,
 "nbformat_minor": 2
}
