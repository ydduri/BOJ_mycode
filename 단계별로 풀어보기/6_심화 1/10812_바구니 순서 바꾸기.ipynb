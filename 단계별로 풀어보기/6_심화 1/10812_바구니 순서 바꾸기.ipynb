{
 "cells": [
  {
   "attachments": {},
   "cell_type": "markdown",
   "metadata": {},
   "source": [
    "## 10812. 바구니 순서 바꾸기\n",
    "\n",
    "* **input() 함수**를 이용하여 입력을 받을 수 있다!  \n",
    "\n",
    "* **split() 함수**를 이용하면 '여러 개의 입력'을 받을 수 있다. 여러 개 입력은 띄어쓰기로 구분된다!\n",
    "* **map() 함수**는 여러 개의 입력을 정수형으로 바꾸는 과정을 한 줄에 수행할 수 있도록 해준다.\n",
    "\n",
    "* 순서를 바꿀 때, begin, begin+1, ..., mid-1이 한 묶음, mid, mid+1, ..., end-1, end가 한 묶음처럼 움직이므로,  \n",
    "  리스트 슬라이싱을 통해 begin, begin+1, ..., mid-1을 arr1에 담아 주고,  \n",
    "  mid, mid+1, ..., end-1, end는 arr2에 담아 준 뒤,  \n",
    "  원본 array의 i번째부터 j까지의 범위를 arr1과 arr2의 순서를 바꾼 것으로 대체하는 방식으로 코딩하였다.\n",
    "\n",
    "* **리스트 슬라이싱을 할 때 인덱스 넘버에 주의하자!!!**"
   ]
  },
  {
   "cell_type": "code",
   "execution_count": 16,
   "metadata": {},
   "outputs": [
    {
     "name": "stdout",
     "output_type": "stream",
     "text": [
      "1 4 6 2 3 7 10 5 8 9\n"
     ]
    }
   ],
   "source": [
    "N, M = map(int, input().split())\n",
    "\n",
    "arr = list(range(1, N+1))\n",
    "\n",
    "for _ in range(M):\n",
    "    i, j, k = map(int, input().split())\n",
    "\n",
    "    arr1 = arr[i-1:k-1]\n",
    "    arr2 = arr[k-1:j]\n",
    "    arr[i-1:j] = arr2+arr1\n",
    "\n",
    "print(*arr)\n",
    "\n",
    "# 출력 결과 예시는 10812번의 예제 입력 1을 그대로 입력했을 때"
   ]
  }
 ],
 "metadata": {
  "kernelspec": {
   "display_name": "base",
   "language": "python",
   "name": "python3"
  },
  "language_info": {
   "codemirror_mode": {
    "name": "ipython",
    "version": 3
   },
   "file_extension": ".py",
   "mimetype": "text/x-python",
   "name": "python",
   "nbconvert_exporter": "python",
   "pygments_lexer": "ipython3",
   "version": "3.9.12"
  },
  "orig_nbformat": 4
 },
 "nbformat": 4,
 "nbformat_minor": 2
}
