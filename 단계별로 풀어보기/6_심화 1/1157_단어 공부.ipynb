{
 "cells": [
  {
   "attachments": {},
   "cell_type": "markdown",
   "metadata": {},
   "source": [
    "## 1157. 단어 공부\n",
    "\n",
    "* **input() 함수**를 이용하여 입력을 받을 수 있다!  \n",
    "\n",
    "* **chr(숫자) 함수**는 아스키 코드 값(숫자)을 문자로 변환해주는 함수로,  \n",
    "  이것을 이용해서 반복문을 통해 손쉽게 a~z의 key로 구성된 딕셔너리를 생성할 수 있도록 한다!"
   ]
  },
  {
   "cell_type": "code",
   "execution_count": 9,
   "metadata": {},
   "outputs": [
    {
     "name": "stdout",
     "output_type": "stream",
     "text": [
      "A\n"
     ]
    }
   ],
   "source": [
    "# 첫 번째로 생각해낸 아이디어 -> '시간 초과'가 뜸\n",
    "\n",
    "# 시간 초과의 주범은 'count() 함수'이다. 문제에서 input으로 최대 백만 글자의 단어가 주어질 수 있다고 하였는데,\n",
    "# count() 함수는 첫 번째 글자에 대해 최대 백만 글자를 쭉 탐색하면서 등장하는 횟수를 세고,\n",
    "# 두 번째 글자에 대해서 같은 과정을 반복하기 때문에 최대 (백만)^2의 시간 복잡도를 가지게 된다.\n",
    "# 일반적으로 1초에 1억 번 정도의 연산이 가능하다는 점을 고려했을 때, 문제에서 주어진 2초의 시간 제한 안에\n",
    "# (백만)^2의 시간 복잡도를 감당하는 것은 사실상 불가능하기 때문에 시간 초과가 뜨게 되는 것이다.\n",
    "\n",
    "s = input().lower()\n",
    "dic = {}\n",
    "\n",
    "i = 0\n",
    "\n",
    "for _ in range(len(s)):\n",
    "    dic[s[i]] = s.count(s[i])\n",
    "    i = i+1\n",
    "\n",
    "arr = [k for k, v in dic.items() if max(dic.values())==v]\n",
    "\n",
    "if len(arr)>= 2:\n",
    "    print('?')\n",
    "\n",
    "else:\n",
    "    print(arr[0].upper())\n",
    "\n",
    "# 출력 결과 예시는 s = baaa를 입력했을 때"
   ]
  },
  {
   "cell_type": "code",
   "execution_count": 15,
   "metadata": {},
   "outputs": [
    {
     "name": "stdout",
     "output_type": "stream",
     "text": [
      "Z\n"
     ]
    }
   ],
   "source": [
    "# 시간 초과를 해결하기 위한 두 번째 방법\n",
    "# count() 함수 대신에 다른 방식을 이용해보자!\n",
    "\n",
    "# 단어를 처음부터 끝까지 '한 번만' 탐색하면서 a는 몇 번, b는 몇 번, c는 몇 번... 각 알파벳별로 몇 번씩 등장했는지를 업데이트하면 좋지 않을까?\n",
    "# 이를 위해 {'a': 0, 'b': 0, ... , 'z': 0} 이렇게 26개 알파벳 각각을 key로 하고, value는 0으로 초기화된 딕셔너리 dic을 생성해준다.\n",
    "# 그러고 난 뒤에 단어의 길이만큼만 반복문을 돌면서 input으로 입력받은 단어에 등장하는 알파벳에 대응되는 value를 1씩 더해준다.\n",
    "\n",
    "# 그렇게 되면 value에 저장된 값은 해당 key의 알파벳이 등장한 횟수가 되므로, 이것이 큰 key들을 arr라는 array에 따로 저장해준다.\n",
    "# 단순히 max() 함수를 사용하면 max 값이 여러 개 있을 때 가장 처음으로 만난 원소만 반환하므로, 모든 최댓값을 다루기 위해 arr 줄에 해당하는 코드를 작성했다.\n",
    "# value의 최댓값에 해당하는 value를 가진 key를 모두 담은 array를 생성하겠다는 의미이다.\n",
    "\n",
    "# 만일 해당 arr의 길이가 2 이상이라면 가장 많이 사용된 알파벳이 여러 개 존재한다는 의미이므로 ?를 출력하고,\n",
    "# 그렇지 않을 경우 해당 알파벳을 출력한다.\n",
    "\n",
    "s = input().lower()\n",
    "dic = {}\n",
    "\n",
    "i = -1\n",
    "for _ in range(26):\n",
    "    i = i+1\n",
    "    dic[chr(97+i)] = 0\n",
    "\n",
    "for j in range(len(s)):\n",
    "    dic[s[j]] = dic[s[j]] + 1\n",
    "\n",
    "arr = [k for k, v in dic.items() if max(dic.values())==v]\n",
    "\n",
    "if len(arr)>= 2:\n",
    "    print('?')\n",
    "\n",
    "else:\n",
    "    print(arr[0].upper())\n",
    "\n",
    "# 출력 결과 예시는 s = zZa를 입력했을 때"
   ]
  }
 ],
 "metadata": {
  "kernelspec": {
   "display_name": "base",
   "language": "python",
   "name": "python3"
  },
  "language_info": {
   "codemirror_mode": {
    "name": "ipython",
    "version": 3
   },
   "file_extension": ".py",
   "mimetype": "text/x-python",
   "name": "python",
   "nbconvert_exporter": "python",
   "pygments_lexer": "ipython3",
   "version": "3.9.12"
  },
  "orig_nbformat": 4
 },
 "nbformat": 4,
 "nbformat_minor": 2
}
