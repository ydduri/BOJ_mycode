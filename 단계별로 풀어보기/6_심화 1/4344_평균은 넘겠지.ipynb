{
 "cells": [
  {
   "attachments": {},
   "cell_type": "markdown",
   "metadata": {},
   "source": [
    "## 4344. 평균은 넘겠지\n",
    "\n",
    "* **input() 함수**를 이용하여 입력을 받을 수 있다!  \n",
    "\n",
    "* **split() 함수**를 이용하면 '여러 개의 입력'을 받을 수 있다. 여러 개 입력은 띄어쓰기로 구분된다!\n",
    "* **map() 함수**는 여러 개의 입력을 정수형으로 바꾸는 과정을 한 줄에 수행할 수 있도록 해준다.\n",
    "\n",
    "* **list() 함수**를 이용해서 입력되는 숫자들을 리스트 형태로 받으면 한 줄에 여러 숫자를 입력할 수 있다\n",
    "\n",
    "* 바깥쪽 for문은 test case의 개수에 대해서 반복하기 위함이고,  \n",
    "  안쪽의 첫 번째 for문은 각 줄마다 입력된 점수를 더하여 평균을 내기 위함,  \n",
    "  안쪽의 두 번째 for문은 평균을 넘는 학생 수를 구하기 위함이다.  \n",
    "  특히 안쪽 두 번째 for문을 위해 각 줄마다 학생의 수를 의미하는 첫 번째 요소는 삭제하였다.\n",
    "\n",
    "* temp, i, p 등 반복문에서 사용한 변수들의 초기화를 잘 시켜주어야 함에 유의하자!\n",
    "\n",
    "* 반올림하여 소수점 셋째 자리까지 출력하라는 문제 조건을 지키기 위해 **format문**을 활용했다."
   ]
  },
  {
   "cell_type": "code",
   "execution_count": 7,
   "metadata": {},
   "outputs": [
    {
     "name": "stdout",
     "output_type": "stream",
     "text": [
      "40.000%\n",
      "57.143%\n",
      "33.333%\n",
      "66.667%\n",
      "55.556%\n"
     ]
    }
   ],
   "source": [
    "c = int(input())\n",
    "\n",
    "for _ in range(c):\n",
    "    arr = list(map(int, input().split()))\n",
    "\n",
    "    n = arr[0]\n",
    "    temp = 0\n",
    "    i = 0\n",
    "    p = 0\n",
    "    del arr[0]\n",
    "\n",
    "    for i in range(n):\n",
    "        temp = temp + arr[i]\n",
    "        mean = temp/n\n",
    "\n",
    "    for k in arr:\n",
    "        if k > mean:\n",
    "            p = p+1\n",
    "\n",
    "    print('{0:0.3f}%'.format((p/n)*100))\n",
    "\n",
    "# 출력 결과 예시는 4344번의 예제 입력 1을 그대로 입력했을 때"
   ]
  }
 ],
 "metadata": {
  "kernelspec": {
   "display_name": "base",
   "language": "python",
   "name": "python3"
  },
  "language_info": {
   "codemirror_mode": {
    "name": "ipython",
    "version": 3
   },
   "file_extension": ".py",
   "mimetype": "text/x-python",
   "name": "python",
   "nbconvert_exporter": "python",
   "pygments_lexer": "ipython3",
   "version": "3.9.12"
  },
  "orig_nbformat": 4
 },
 "nbformat": 4,
 "nbformat_minor": 2
}
