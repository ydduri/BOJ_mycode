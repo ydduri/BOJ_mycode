{
 "cells": [
  {
   "attachments": {},
   "cell_type": "markdown",
   "metadata": {},
   "source": [
    "## 25206. 너의 평점은\n",
    "\n",
    "* **input() 함수**를 이용하여 입력을 받을 수 있다!  \n",
    "\n",
    "* **split() 함수**를 이용하면 '여러 개의 입력'을 받을 수 있다. 여러 개 입력은 띄어쓰기로 구분된다!\n",
    "* **map() 함수**는 여러 개의 입력을 정수형으로 바꾸는 과정을 한 줄에 수행할 수 있도록 해준다.\n",
    "\n",
    "* **list() 함수**를 이용해서 입력되는 숫자들을 리스트 형태로 받으면 한 줄에 여러 숫자를 입력할 수 있다.\n",
    "\n",
    "* A+, A0 등 등급과 그에 따른 과목 평점을 딕셔너리로 정의하여 등급<->과목 평점 간 환산이 용이하도록 하였다.\n",
    "\n",
    "* 등급이 P인 과목은 계산에서 제외해야 한다고 하였으므로 for문 안에 if문을 추가하여,  \n",
    "  만일 등급이 P라면 continue를 통해 for문을 반복하고, 그게 아니라면 평점을 계산하도록 코드를 설계하였다."
   ]
  },
  {
   "cell_type": "code",
   "execution_count": 4,
   "metadata": {},
   "outputs": [
    {
     "name": "stdout",
     "output_type": "stream",
     "text": [
      "3.2844827586206895\n"
     ]
    }
   ],
   "source": [
    "dic = {'A+': 4.5, 'A0': 4.0, 'B+': 3.5, 'B0': 3.0, 'C+': 2.5, 'C0': 2.0, 'D+': 1.5, 'D0': 1.0, 'F': 0.0}\n",
    "\n",
    "grade = 0\n",
    "credit = 0\n",
    "\n",
    "for _ in range(20):\n",
    "    arr = list(input().split())\n",
    "\n",
    "    if arr[2] == 'P':\n",
    "        continue\n",
    "\n",
    "    else:\n",
    "        credit = credit + float(arr[1])\n",
    "        grade = grade + (float(arr[1])*dic[arr[2]])\n",
    "\n",
    "print(grade/credit)\n",
    "\n",
    "# 출력 결과 예시는 25206번의 예제 입력 1을 그대로 입력했을 때\n",
    "# 입력해야 할 내용이 많으므로, 위의 코드를 .py 파일로 복사해서 20줄의 입력을 한 번에 복사-붙여넣기 하면 편하게 입력할 수 있다!"
   ]
  }
 ],
 "metadata": {
  "kernelspec": {
   "display_name": "base",
   "language": "python",
   "name": "python3"
  },
  "language_info": {
   "codemirror_mode": {
    "name": "ipython",
    "version": 3
   },
   "file_extension": ".py",
   "mimetype": "text/x-python",
   "name": "python",
   "nbconvert_exporter": "python",
   "pygments_lexer": "ipython3",
   "version": "3.9.12"
  },
  "orig_nbformat": 4
 },
 "nbformat": 4,
 "nbformat_minor": 2
}
