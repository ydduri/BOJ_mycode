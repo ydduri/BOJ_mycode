{
 "cells": [
  {
   "attachments": {},
   "cell_type": "markdown",
   "metadata": {},
   "source": [
    "## 10988. 팰린드롬인지 확인하기\n",
    "\n",
    "* **input() 함수**를 이용하여 입력을 받을 수 있다!  \n",
    "\n",
    "* input() 함수는 입력 내용을 '문자열'로 취급하므로 그대로 사용하면 된다!"
   ]
  },
  {
   "cell_type": "code",
   "execution_count": 1,
   "metadata": {},
   "outputs": [
    {
     "name": "stdout",
     "output_type": "stream",
     "text": [
      "0\n"
     ]
    },
    {
     "ename": "SystemExit",
     "evalue": "0",
     "output_type": "error",
     "traceback": [
      "An exception has occurred, use %tb to see the full traceback.\n",
      "\u001b[0;31mSystemExit\u001b[0m\u001b[0;31m:\u001b[0m 0\n"
     ]
    },
    {
     "name": "stderr",
     "output_type": "stream",
     "text": [
      "/home/ydduri/anaconda3/lib/python3.9/site-packages/IPython/core/interactiveshell.py:3377: UserWarning: To exit: use 'exit', 'quit', or Ctrl-D.\n",
      "  warn(\"To exit: use 'exit', 'quit', or Ctrl-D.\", stacklevel=1)\n"
     ]
    }
   ],
   "source": [
    "# 첫 번째로 생각해낸 방법\n",
    "# 단어의 길이만큼 반복문을 돌리면서 단어의 첫 번째 글자와 마지막 글자, 두 번째 글자와 끝에서 두 번째 글자...가 같은지를 판별하고,\n",
    "# 만약 다를 경우 0을 출력하고 sys 라이브러리의 exit 함수를 활용해 반복문 안에서 프로그램 강제 종료,\n",
    "# 끝까지 같을 경우 반복문을 무사히 빠져나와 밖에서 1을 출력하는 방식이다.\n",
    "\n",
    "import sys\n",
    "\n",
    "s = input()\n",
    "i = 0\n",
    "j = 0\n",
    "\n",
    "for _ in range(len(s)):\n",
    "    if s[i] == s[len(s)-j-1]:\n",
    "        i = i+1\n",
    "        j = j+1\n",
    "        continue\n",
    "\n",
    "    else:\n",
    "        print(0)\n",
    "        sys.exit(0)\n",
    "\n",
    "print(1)"
   ]
  },
  {
   "cell_type": "code",
   "execution_count": 2,
   "metadata": {},
   "outputs": [
    {
     "name": "stdout",
     "output_type": "stream",
     "text": [
      "1\n"
     ]
    }
   ],
   "source": [
    "# 강제로 종료하는 방식이 조금 찜찜해서 찾아본 다른 방법\n",
    "# [::-1]을 이용하면 문자열을 뒤집은 결과를 볼 수 있다는 점을 이용해서 매우 간단하게 코드를 짤 수 있었다.\n",
    "\n",
    "s = input()\n",
    "print(1 if s == s[::-1] else 0)"
   ]
  }
 ],
 "metadata": {
  "kernelspec": {
   "display_name": "base",
   "language": "python",
   "name": "python3"
  },
  "language_info": {
   "codemirror_mode": {
    "name": "ipython",
    "version": 3
   },
   "file_extension": ".py",
   "mimetype": "text/x-python",
   "name": "python",
   "nbconvert_exporter": "python",
   "pygments_lexer": "ipython3",
   "version": "3.9.12"
  },
  "orig_nbformat": 4
 },
 "nbformat": 4,
 "nbformat_minor": 2
}
