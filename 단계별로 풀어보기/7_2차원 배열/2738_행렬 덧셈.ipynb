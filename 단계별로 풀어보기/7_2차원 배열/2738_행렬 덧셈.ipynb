{
 "cells": [
  {
   "attachments": {},
   "cell_type": "markdown",
   "metadata": {},
   "source": [
    "## 2738. 행렬 덧셈\n",
    "\n",
    "* **input() 함수**를 이용하여 입력을 받을 수 있다!  \n",
    "\n",
    "* **split() 함수**를 이용하면 '여러 개의 입력'을 받을 수 있다. 여러 개 입력은 띄어쓰기로 구분된다!\n",
    "* **map() 함수**는 여러 개의 입력을 정수형으로 바꾸는 과정을 한 줄에 수행할 수 있도록 해준다.  \n",
    "* 이번 문제에서는 인덱스에 주의하자! M과 N의 이중 for문에서 i에 대하여 range(M)만큼, j에 대하여 range(N)만큼 반복을 시켜야 한다.  \n",
    "  그 반대로 했더니 런타임 에러가 났다."
   ]
  },
  {
   "cell_type": "code",
   "execution_count": 10,
   "metadata": {},
   "outputs": [
    {
     "name": "stdout",
     "output_type": "stream",
     "text": [
      "4 4 4 \n",
      "6 6 6 \n",
      "5 6 100 \n"
     ]
    }
   ],
   "source": [
    "N, M = map(int, input().split())\n",
    "A = []\n",
    "B = []\n",
    "\n",
    "for i in range(N):\n",
    "    l_A = list(map(int, input().split()))\n",
    "    A.append(l_A)\n",
    "\n",
    "for i in range(N):\n",
    "    l_B = list(map(int, input().split()))\n",
    "    B.append(l_B)\n",
    "\n",
    "rows = N\n",
    "cols = M\n",
    "arr = [[0 for j in range(cols)] for i in range(rows)]\n",
    "\n",
    "for i in range(M):\n",
    "    for j in range(N):\n",
    "        arr[j][i] = A[j][i] + B[j][i]\n",
    "\n",
    "for i in range(len(arr)):            # 세로 크기\n",
    "    for j in range(len(arr[i])):     # 가로 크기\n",
    "        print(arr[i][j], end=' ')\n",
    "    print()"
   ]
  }
 ],
 "metadata": {
  "kernelspec": {
   "display_name": "base",
   "language": "python",
   "name": "python3"
  },
  "language_info": {
   "codemirror_mode": {
    "name": "ipython",
    "version": 3
   },
   "file_extension": ".py",
   "mimetype": "text/x-python",
   "name": "python",
   "nbconvert_exporter": "python",
   "pygments_lexer": "ipython3",
   "version": "3.9.12"
  },
  "orig_nbformat": 4
 },
 "nbformat": 4,
 "nbformat_minor": 2
}
