{
 "cells": [
  {
   "attachments": {},
   "cell_type": "markdown",
   "metadata": {},
   "source": [
    "## 8393. 합\n",
    "\n",
    "* **input() 함수**를 이용하여 입력을 받을 수 있다!  \n",
    "\n",
    "* input() 함수는 입력 내용을 '문자열'로 취급한다는 특징이 있는데,  \n",
    "입력받은 수를 '숫자'로 취급하고 싶으므로 **int() 함수**를 이용해 정수형으로 바꿔준다!\n",
    "\n",
    "* **for 문**을 활용해보자"
   ]
  },
  {
   "cell_type": "code",
   "execution_count": 7,
   "metadata": {},
   "outputs": [
    {
     "name": "stdout",
     "output_type": "stream",
     "text": [
      "6\n"
     ]
    }
   ],
   "source": [
    "n = input()\n",
    "n = int(n)\n",
    "\n",
    "temp = 0\n",
    "\n",
    "for i in range(n+1):\n",
    "    temp = temp + i\n",
    "    i = i+1\n",
    "\n",
    "print(temp)\n",
    "\n",
    "# 출력 결과 예시는 n = 3을 입력했을 때"
   ]
  }
 ],
 "metadata": {
  "kernelspec": {
   "display_name": "base",
   "language": "python",
   "name": "python3"
  },
  "language_info": {
   "codemirror_mode": {
    "name": "ipython",
    "version": 3
   },
   "file_extension": ".py",
   "mimetype": "text/x-python",
   "name": "python",
   "nbconvert_exporter": "python",
   "pygments_lexer": "ipython3",
   "version": "3.9.12"
  },
  "orig_nbformat": 4
 },
 "nbformat": 4,
 "nbformat_minor": 2
}
