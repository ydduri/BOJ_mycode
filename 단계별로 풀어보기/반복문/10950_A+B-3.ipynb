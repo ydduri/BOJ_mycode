{
 "cells": [
  {
   "attachments": {},
   "cell_type": "markdown",
   "metadata": {},
   "source": [
    "## 10950. A+B-3\n",
    "\n",
    "* **input() 함수**를 이용하여 입력을 받을 수 있다!  \n",
    "\n",
    "* **split() 함수**를 이용하면 '여러 개의 입력'을 받을 수 있다. 여러 개 입력은 띄어쓰기로 구분된다!\n",
    "* **map() 함수**는 여러 개의 입력을 정수형으로 바꾸는 과정을 한 줄에 수행할 수 있도록 해준다.\n",
    "\n",
    "* **for 문**을 활용해보자"
   ]
  },
  {
   "cell_type": "code",
   "execution_count": 5,
   "metadata": {},
   "outputs": [
    {
     "name": "stdout",
     "output_type": "stream",
     "text": [
      "2\n",
      "5\n",
      "7\n",
      "17\n",
      "7\n"
     ]
    }
   ],
   "source": [
    "n_test = input()\n",
    "n_test = int(n_test)\n",
    "\n",
    "for i in range(n_test):\n",
    "    a, b = map(int, input().split())\n",
    "\n",
    "    print(a+b)\n",
    "\n",
    "# 출력 결과 예시는\n",
    "# n_test = 5\n",
    "# 1 1 / 2 3 / 3 4 / 9 8 / 5 2 를 입력했을 때"
   ]
  }
 ],
 "metadata": {
  "kernelspec": {
   "display_name": "base",
   "language": "python",
   "name": "python3"
  },
  "language_info": {
   "codemirror_mode": {
    "name": "ipython",
    "version": 3
   },
   "file_extension": ".py",
   "mimetype": "text/x-python",
   "name": "python",
   "nbconvert_exporter": "python",
   "pygments_lexer": "ipython3",
   "version": "3.9.12"
  },
  "orig_nbformat": 4
 },
 "nbformat": 4,
 "nbformat_minor": 2
}
