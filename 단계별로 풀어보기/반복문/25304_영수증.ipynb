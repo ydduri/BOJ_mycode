{
 "cells": [
  {
   "attachments": {},
   "cell_type": "markdown",
   "metadata": {},
   "source": [
    "## 25304. 영수증\n",
    "\n",
    "* **input() 함수**를 이용하여 입력을 받을 수 있다!  \n",
    "\n",
    "* **split() 함수**를 이용하면 '여러 개의 입력'을 받을 수 있다. 여러 개 입력은 띄어쓰기로 구분된다!\n",
    "* **map() 함수**는 여러 개의 입력을 정수형으로 바꾸는 과정을 한 줄에 수행할 수 있도록 해준다.\n",
    "\n",
    "* **for 문**을 활용해보자"
   ]
  },
  {
   "cell_type": "code",
   "execution_count": 2,
   "metadata": {},
   "outputs": [
    {
     "name": "stdout",
     "output_type": "stream",
     "text": [
      "No\n"
     ]
    }
   ],
   "source": [
    "X = input() # 영수증에 적힌 총 금액\n",
    "X= int(X)\n",
    "\n",
    "N = input() # 영수증에 적힌 구매한 물건의 종류의 수\n",
    "N = int(N)\n",
    "\n",
    "total = 0\n",
    "\n",
    "for i in range(N):\n",
    "    a, b = map(int, input().split())\n",
    "    total = total + a*b\n",
    "\n",
    "if X == total:\n",
    "    print('Yes')\n",
    "\n",
    "else:\n",
    "    print('No')\n",
    "\n",
    "# 출력 결과 예시는\n",
    "# X = 250000\n",
    "# N = 4\n",
    "# 20000 5 / 30000 2 / 10000 6 / 5000 8 을 입력했을 때"
   ]
  }
 ],
 "metadata": {
  "kernelspec": {
   "display_name": "base",
   "language": "python",
   "name": "python3"
  },
  "language_info": {
   "codemirror_mode": {
    "name": "ipython",
    "version": 3
   },
   "file_extension": ".py",
   "mimetype": "text/x-python",
   "name": "python",
   "nbconvert_exporter": "python",
   "pygments_lexer": "ipython3",
   "version": "3.9.12"
  },
  "orig_nbformat": 4
 },
 "nbformat": 4,
 "nbformat_minor": 2
}
