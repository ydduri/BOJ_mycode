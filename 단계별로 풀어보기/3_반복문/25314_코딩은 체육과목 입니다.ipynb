{
 "cells": [
  {
   "attachments": {},
   "cell_type": "markdown",
   "metadata": {},
   "source": [
    "## 25314. 코딩은 체육과목 입니다\n",
    "\n",
    "* **input() 함수**를 이용하여 입력을 받을 수 있다!  \n",
    "\n",
    "* input() 함수는 입력 내용을 '문자열'로 취급한다는 특징이 있는데,  \n",
    "입력받은 수를 '숫자'로 취급하고 싶으므로 **int() 함수**를 이용해 정수형으로 바꿔준다!\n",
    "\n",
    "* print문에서 기본 옵션은 /n의 개행이지만,  \n",
    "**end 옵션**을 통해 문자열을 구분할 때 개행 대신 다른 방식을 사용할 수 있다."
   ]
  },
  {
   "cell_type": "code",
   "execution_count": 8,
   "metadata": {},
   "outputs": [
    {
     "name": "stdout",
     "output_type": "stream",
     "text": [
      "long long long long long int\n"
     ]
    }
   ],
   "source": [
    "# 반복문을 활용하지 않은, 처음 생각해낸 풀이\n",
    "\n",
    "N = input()\n",
    "N = int(N)\n",
    "\n",
    "print('long '*(N//4) + 'int')\n",
    "\n",
    "# 출력 결과 예시는 N = 20을 입력했을 때"
   ]
  },
  {
   "cell_type": "code",
   "execution_count": 11,
   "metadata": {},
   "outputs": [
    {
     "name": "stdout",
     "output_type": "stream",
     "text": [
      "long long long long long int\n"
     ]
    }
   ],
   "source": [
    "# 그래도 반복문 카테고리 문젠데 반복문을 활용해야지 싶어서 생각한 두 번째 풀이\n",
    "\n",
    "N = input()\n",
    "N = int(N)\n",
    "\n",
    "for i in range(N//4):\n",
    "    print('long', end = ' ')\n",
    "\n",
    "print('int')\n",
    "\n",
    "# 출력 결과 예시는 N = 20을 입력했을 때"
   ]
  }
 ],
 "metadata": {
  "kernelspec": {
   "display_name": "base",
   "language": "python",
   "name": "python3"
  },
  "language_info": {
   "codemirror_mode": {
    "name": "ipython",
    "version": 3
   },
   "file_extension": ".py",
   "mimetype": "text/x-python",
   "name": "python",
   "nbconvert_exporter": "python",
   "pygments_lexer": "ipython3",
   "version": "3.9.12"
  },
  "orig_nbformat": 4
 },
 "nbformat": 4,
 "nbformat_minor": 2
}
