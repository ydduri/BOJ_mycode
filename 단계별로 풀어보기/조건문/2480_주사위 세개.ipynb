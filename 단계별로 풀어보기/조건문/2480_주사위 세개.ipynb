{
 "cells": [
  {
   "attachments": {},
   "cell_type": "markdown",
   "metadata": {},
   "source": [
    "## 2480. 주사위 세개\n",
    "\n",
    "* **input() 함수**를 이용하여 입력을 받을 수 있다!  \n",
    "\n",
    "* **split() 함수**를 이용하면 '여러 개의 입력'을 받을 수 있다. 여러 개 입력은 띄어쓰기로 구분된다!\n",
    "* input() 함수는 입력 내용을 '문자열'로 취급한다는 특징이 있는데,  \n",
    "우리는 숫자 연산을 수행하고 싶으므로 입력받은 a, b, c 각각을 **int() 함수**를 이용해 정수형으로 바꿔준다!\n",
    "\n",
    "* **if 문**을 활용해보자"
   ]
  },
  {
   "cell_type": "code",
   "execution_count": 4,
   "metadata": {},
   "outputs": [
    {
     "name": "stdout",
     "output_type": "stream",
     "text": [
      "600\n"
     ]
    }
   ],
   "source": [
    "a, b, c = input().split()\n",
    "\n",
    "a = int(a)\n",
    "b = int(b)\n",
    "c = int(c)\n",
    "\n",
    "if a==b and b==c:\n",
    "    print(10000+a*1000)\n",
    "\n",
    "elif (a==b and b!=c) or (a==c and a!=b):\n",
    "    print(1000+a*100)\n",
    "\n",
    "elif b==c and b!=a:\n",
    "    print(1000+b*100)\n",
    "\n",
    "elif a!=b and b!=c and c!=a:\n",
    "    print(max(a, b, c)*100)\n",
    "\n",
    "# 출력 결과 예시는 a = 6, b = 2, c = 5를 입력했을 때"
   ]
  }
 ],
 "metadata": {
  "kernelspec": {
   "display_name": "base",
   "language": "python",
   "name": "python3"
  },
  "language_info": {
   "codemirror_mode": {
    "name": "ipython",
    "version": 3
   },
   "file_extension": ".py",
   "mimetype": "text/x-python",
   "name": "python",
   "nbconvert_exporter": "python",
   "pygments_lexer": "ipython3",
   "version": "3.9.12"
  },
  "orig_nbformat": 4
 },
 "nbformat": 4,
 "nbformat_minor": 2
}
