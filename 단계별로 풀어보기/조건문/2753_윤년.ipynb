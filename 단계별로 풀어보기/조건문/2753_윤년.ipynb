{
 "cells": [
  {
   "attachments": {},
   "cell_type": "markdown",
   "metadata": {},
   "source": [
    "## 2753. 윤년\n",
    "\n",
    "* **input() 함수**를 이용하여 입력을 받을 수 있다!  \n",
    "\n",
    "* input() 함수는 입력 내용을 '문자열'로 취급한다는 특징이 있는데,  \n",
    "우리는 숫자 연산을 수행하고 싶으므로 입력받은 a, b 각각을 **int() 함수**를 이용해 정수형으로 바꿔준다!\n",
    "\n",
    "* **if 문**을 활용해보자\n",
    "* 나머지를 구할 수 있게 해주는 연산자 %를 이용해보자"
   ]
  },
  {
   "cell_type": "code",
   "execution_count": 3,
   "metadata": {},
   "outputs": [
    {
     "name": "stdout",
     "output_type": "stream",
     "text": [
      "0\n"
     ]
    }
   ],
   "source": [
    "year = input()\n",
    "year = int(year)\n",
    "\n",
    "if year%4 == 0 and year%100 != 0:\n",
    "    print('1')\n",
    "\n",
    "elif year%400 == 0:\n",
    "    print('1')\n",
    "\n",
    "elif year%100 == 0 and year%400 != 0:\n",
    "    print('0')\n",
    "\n",
    "else:\n",
    "    print('0')\n",
    "\n",
    "# 출력 결과 예시는 year = 1999를 입력했을 때"
   ]
  }
 ],
 "metadata": {
  "kernelspec": {
   "display_name": "base",
   "language": "python",
   "name": "python3"
  },
  "language_info": {
   "codemirror_mode": {
    "name": "ipython",
    "version": 3
   },
   "file_extension": ".py",
   "mimetype": "text/x-python",
   "name": "python",
   "nbconvert_exporter": "python",
   "pygments_lexer": "ipython3",
   "version": "3.9.12"
  },
  "orig_nbformat": 4,
  "vscode": {
   "interpreter": {
    "hash": "5be35f2e2fb6a33c998b605ceb556a15ef4cec1e92c31780438adb4cd1649681"
   }
  }
 },
 "nbformat": 4,
 "nbformat_minor": 2
}
